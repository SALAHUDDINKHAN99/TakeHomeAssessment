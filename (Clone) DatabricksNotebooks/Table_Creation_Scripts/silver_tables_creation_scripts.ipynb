{
 "cells": [
  {
   "cell_type": "code",
   "execution_count": 0,
   "metadata": {
    "application/vnd.databricks.v1+cell": {
     "cellMetadata": {
      "byteLimit": 2048000,
      "rowLimit": 10000
     },
     "inputWidgets": {},
     "nuid": "315c244d-76d7-49a0-9b7b-399ced9c86d9",
     "showTitle": false,
     "tableResultSettingsMap": {},
     "title": ""
    }
   },
   "outputs": [],
   "source": [
    "dbutils.widgets.text(\"storage_account_name\", \"\")\n",
    "storage_account_name = dbutils.widgets.get(\"storage_account_name\")"
   ]
  },
  {
   "cell_type": "code",
   "execution_count": 0,
   "metadata": {
    "application/vnd.databricks.v1+cell": {
     "cellMetadata": {
      "byteLimit": 2048000,
      "rowLimit": 10000
     },
     "inputWidgets": {},
     "nuid": "4cfba663-d99c-4ca5-a2bc-dcb495a0e2df",
     "showTitle": false,
     "tableResultSettingsMap": {},
     "title": ""
    }
   },
   "outputs": [],
   "source": [
    "spark.sql(\n",
    "    f\"\"\"\n",
    "        CREATE DATABASE IF NOT EXISTS hive_metastore.silver\n",
    "        \"\"\"\n",
    ")"
   ]
  },
  {
   "cell_type": "code",
   "execution_count": 0,
   "metadata": {
    "application/vnd.databricks.v1+cell": {
     "cellMetadata": {
      "byteLimit": 2048000,
      "rowLimit": 10000
     },
     "inputWidgets": {},
     "nuid": "99f79095-fd61-42c3-b5d9-7678dd73c09f",
     "showTitle": false,
     "tableResultSettingsMap": {},
     "title": ""
    }
   },
   "outputs": [],
   "source": [
    "spark.sql(\n",
    "    f\"\"\"\n",
    "          CREATE OR REPLACE TABLE silver.accounts (\n",
    "            id INT NOT NULL,\n",
    "            name STRING,\n",
    "            website STRING,\n",
    "            lat DOUBLE,\n",
    "            long DOUBLE,\n",
    "            primary_poc STRING,\n",
    "            sales_rep_id INT,\n",
    "            last_insert_dttm TIMESTAMP,\n",
    "            load_id STRING\n",
    "            )\n",
    "            LOCATION 'abfss://silver@{storage_account_name}.dfs.core.windows.net/accounts'\n",
    "          \"\"\"\n",
    ")"
   ]
  },
  {
   "cell_type": "code",
   "execution_count": 0,
   "metadata": {
    "application/vnd.databricks.v1+cell": {
     "cellMetadata": {
      "byteLimit": 2048000,
      "rowLimit": 10000
     },
     "inputWidgets": {},
     "nuid": "87ed1d50-c61f-4af2-bb3e-b22df152a02f",
     "showTitle": false,
     "tableResultSettingsMap": {},
     "title": ""
    }
   },
   "outputs": [],
   "source": [
    "spark.sql(\n",
    "    f\"\"\"\n",
    "          CREATE OR REPLACE TABLE silver.orders (\n",
    "              id INT NOT NULL,\n",
    "                account_id INT,\n",
    "                occurred_at TIMESTAMP,\n",
    "                standard_qty INT,\n",
    "                gloss_qty INT,\n",
    "                poster_qty INT,\n",
    "                total INT,\n",
    "                standard_amt_usd DOUBLE,\n",
    "                gloss_amt_usd DOUBLE,\n",
    "                poster_amt_usd DOUBLE,\n",
    "                total_amt_usd DOUBLE,\n",
    "                last_insert_dttm TIMESTAMP,\n",
    "                load_id STRING\n",
    "            )\n",
    "            LOCATION 'abfss://silver@{storage_account_name}.dfs.core.windows.net/orders'\n",
    "          \"\"\"\n",
    ")"
   ]
  },
  {
   "cell_type": "code",
   "execution_count": 0,
   "metadata": {
    "application/vnd.databricks.v1+cell": {
     "cellMetadata": {
      "byteLimit": 2048000,
      "rowLimit": 10000
     },
     "inputWidgets": {},
     "nuid": "56af7540-244f-44d5-8952-52542b66e1f8",
     "showTitle": false,
     "tableResultSettingsMap": {},
     "title": ""
    }
   },
   "outputs": [],
   "source": [
    "spark.sql(\n",
    "    f\"\"\"\n",
    "          CREATE OR REPLACE TABLE silver.region (\n",
    "              id INT NOT NULL,\n",
    "              name STRING,\n",
    "              last_insert_dttm TIMESTAMP,\n",
    "              load_id STRING\n",
    "            )\n",
    "            LOCATION 'abfss://silver@{storage_account_name}.dfs.core.windows.net/region'\n",
    "          \"\"\"\n",
    ")"
   ]
  },
  {
   "cell_type": "code",
   "execution_count": 0,
   "metadata": {
    "application/vnd.databricks.v1+cell": {
     "cellMetadata": {
      "byteLimit": 2048000,
      "rowLimit": 10000
     },
     "inputWidgets": {},
     "nuid": "567947dc-fc38-4d56-93e2-24edbef0a1cf",
     "showTitle": false,
     "tableResultSettingsMap": {},
     "title": ""
    }
   },
   "outputs": [],
   "source": [
    "spark.sql(\n",
    "    f\"\"\"\n",
    "          CREATE OR REPLACE TABLE silver.sales_reps (\n",
    "              id INT NOT NULL,\n",
    "              name STRING,\n",
    "              region_id INT,\n",
    "              last_insert_dttm TIMESTAMP,\n",
    "              load_id STRING\n",
    "            )\n",
    "            LOCATION 'abfss://silver@{storage_account_name}.dfs.core.windows.net/sales_reps'\n",
    "          \"\"\"\n",
    ")"
   ]
  },
  {
   "cell_type": "code",
   "execution_count": 0,
   "metadata": {
    "application/vnd.databricks.v1+cell": {
     "cellMetadata": {
      "byteLimit": 2048000,
      "rowLimit": 10000
     },
     "inputWidgets": {},
     "nuid": "160621f7-fad1-406c-a79d-1cd19e0239a3",
     "showTitle": false,
     "tableResultSettingsMap": {},
     "title": ""
    }
   },
   "outputs": [],
   "source": [
    "spark.sql(\n",
    "    f\"\"\"\n",
    "          CREATE OR REPLACE TABLE silver.web_events (\n",
    "            id INT NOT NULL,\n",
    "            account_id INT,\n",
    "            occurred_at TIMESTAMP,\n",
    "            channel STRING,\n",
    "            last_insert_dttm TIMESTAMP,\n",
    "            load_id STRING\n",
    "            )\n",
    "            LOCATION 'abfss://silver@{storage_account_name}.dfs.core.windows.net/web_events'\n",
    "          \"\"\"\n",
    ")"
   ]
  },
  {
   "cell_type": "code",
   "execution_count": 0,
   "metadata": {
    "application/vnd.databricks.v1+cell": {
     "cellMetadata": {
      "byteLimit": 2048000,
      "rowLimit": 10000
     },
     "inputWidgets": {},
     "nuid": "d7354a2e-0b23-4004-8786-273946d9e2d1",
     "showTitle": false,
     "tableResultSettingsMap": {},
     "title": ""
    }
   },
   "outputs": [],
   "source": []
  }
 ],
 "metadata": {
  "application/vnd.databricks.v1+notebook": {
   "computePreferences": null,
   "dashboards": [],
   "environmentMetadata": {
    "base_environment": "",
    "environment_version": "2"
   },
   "inputWidgetPreferences": null,
   "language": "python",
   "notebookMetadata": {
    "mostRecentlyExecutedCommandWithImplicitDF": {
     "commandId": 7999882899374451,
     "dataframes": [
      "_sqldf"
     ]
    },
    "pythonIndentUnit": 4
   },
   "notebookName": "silver_tables_creation_scripts",
   "widgets": {
    "storage_account_name": {
     "currentValue": "thassessmentsa",
     "nuid": "3031da21-6af0-406e-ba9b-b9b6b6bbed8b",
     "typedWidgetInfo": {
      "autoCreated": false,
      "defaultValue": "",
      "label": null,
      "name": "storage_account_name",
      "options": {
       "widgetDisplayType": "Text",
       "validationRegex": null
      },
      "parameterDataType": "String"
     },
     "widgetInfo": {
      "widgetType": "text",
      "defaultValue": "",
      "label": null,
      "name": "storage_account_name",
      "options": {
       "widgetType": "text",
       "autoCreated": null,
       "validationRegex": null
      }
     }
    }
   }
  },
  "language_info": {
   "name": "python"
  }
 },
 "nbformat": 4,
 "nbformat_minor": 0
}
