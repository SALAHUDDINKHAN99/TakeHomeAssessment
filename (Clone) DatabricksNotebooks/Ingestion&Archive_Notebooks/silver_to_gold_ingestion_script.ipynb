{
 "cells": [
  {
   "cell_type": "code",
   "execution_count": 0,
   "metadata": {
    "application/vnd.databricks.v1+cell": {
     "cellMetadata": {
      "byteLimit": 2048000,
      "rowLimit": 10000
     },
     "inputWidgets": {},
     "nuid": "50558116-7ec3-45c9-818d-d0f0c5f56b91",
     "showTitle": false,
     "tableResultSettingsMap": {},
     "title": ""
    }
   },
   "outputs": [],
   "source": [
    "dbutils.widgets.text(\"silver_schema\", \"\")\n",
    "dbutils.widgets.text(\"gold_schema\", \"\")\n",
    "dbutils.widgets.text(\"storage_account_name\", \"\")"
   ]
  },
  {
   "cell_type": "code",
   "execution_count": 0,
   "metadata": {
    "application/vnd.databricks.v1+cell": {
     "cellMetadata": {
      "byteLimit": 2048000,
      "rowLimit": 10000
     },
     "inputWidgets": {},
     "nuid": "232f395a-2a02-491a-991e-bd9875f07636",
     "showTitle": false,
     "tableResultSettingsMap": {},
     "title": ""
    }
   },
   "outputs": [],
   "source": [
    "silver_schema = dbutils.widgets.get(\"silver_schema\")\n",
    "gold_schema = dbutils.widgets.get(\"gold_schema\")\n",
    "storage_account_name = dbutils.widgets.get(\"storage_account_name\")"
   ]
  },
  {
   "cell_type": "markdown",
   "metadata": {
    "application/vnd.databricks.v1+cell": {
     "cellMetadata": {
      "byteLimit": 2048000,
      "rowLimit": 10000
     },
     "inputWidgets": {},
     "nuid": "1a5edd97-3f3c-487c-9170-404f0dc0a95c",
     "showTitle": false,
     "tableResultSettingsMap": {},
     "title": ""
    }
   },
   "source": [
    "##### Who are the top customers by revenue?"
   ]
  },
  {
   "cell_type": "markdown",
   "metadata": {
    "application/vnd.databricks.v1+cell": {
     "cellMetadata": {
      "byteLimit": 2048000,
      "rowLimit": 10000
     },
     "inputWidgets": {},
     "nuid": "de6198cb-fde5-4ceb-bcf4-3aa5dd45aa87",
     "showTitle": false,
     "tableResultSettingsMap": {},
     "title": ""
    }
   },
   "source": [
    "\n",
    "###### Pysaprk Query for top customers by revenue\n",
    "from pyspark.sql.functions import *\n",
    "\n",
    "df_orders = spark.sql(\n",
    "    f\"\"\"\n",
    "    SELECT * FROM {silver_schema}.orders\n",
    "          \"\"\"\n",
    ")\n",
    "\n",
    "df_accounts = spark.sql(\n",
    "    f\"\"\"\n",
    "    SELECT * FROM {silver_schema}.accounts\n",
    "          \"\"\"\n",
    ") \n",
    "\n",
    "df_top_customers_by_revenue = df_orders.join(df_accounts, df_orders.account_id == df_accounts.id, \"inner\"). \\\n",
    "    groupBy(df_orders.account_id, df_accounts.name.alias(\"customer_name\")). \\\n",
    "    agg(round(sum(df_orders.total_amt_usd),2).alias(\"total_revenue\"),count(\"*\").alias(\"total_orders\")). \\\n",
    "    orderBy(desc(\"total_revenue\"))"
   ]
  },
  {
   "cell_type": "code",
   "execution_count": 0,
   "metadata": {
    "application/vnd.databricks.v1+cell": {
     "cellMetadata": {
      "byteLimit": 2048000,
      "rowLimit": 10000
     },
     "inputWidgets": {},
     "nuid": "c2efb050-fa0c-445b-8f9a-2090446fd7dd",
     "showTitle": false,
     "tableResultSettingsMap": {},
     "title": ""
    }
   },
   "outputs": [],
   "source": [
    "df_top_customers_by_revenue = spark.sql(\n",
    "    f\"\"\"\n",
    "    SELECT o.account_id,a.name AS customer_name,ROUND(SUM(o.total_amt_usd),2) AS total_revenue ,COUNT(*) AS total_orders \n",
    "    FROM {silver_schema}.ORDERS o JOIN {silver_schema}.ACCOUNTS a ON o.account_id = a.id\n",
    "    GROUP BY o.account_id, a.name\n",
    "    ORDER BY total_revenue DESC\n",
    "    \"\"\"\n",
    ")"
   ]
  },
  {
   "cell_type": "code",
   "execution_count": 0,
   "metadata": {
    "application/vnd.databricks.v1+cell": {
     "cellMetadata": {
      "byteLimit": 2048000,
      "rowLimit": 10000
     },
     "inputWidgets": {},
     "nuid": "de118da5-460c-4ad1-bbd6-48a02ec63613",
     "showTitle": false,
     "tableResultSettingsMap": {},
     "title": ""
    }
   },
   "outputs": [],
   "source": [
    "# Writing df_top_customers_by_revenue as a denormalized table into gold layer in Parquet for ADF compatibility\n",
    "df_top_customers_by_revenue.write.mode(\"overwrite\").parquet(\n",
    "    f\"abfss://gold@{storage_account_name}.dfs.core.windows.net/top_customers_by_revenue\"\n",
    ")\n"
   ]
  },
  {
   "cell_type": "markdown",
   "metadata": {
    "application/vnd.databricks.v1+cell": {
     "cellMetadata": {
      "byteLimit": 2048000,
      "rowLimit": 10000
     },
     "inputWidgets": {},
     "nuid": "8138a44c-d599-4d41-b7fd-4cb016f30157",
     "showTitle": false,
     "tableResultSettingsMap": {},
     "title": ""
    }
   },
   "source": [
    "##### Who is the highest purchaser of glossy paper?"
   ]
  },
  {
   "cell_type": "markdown",
   "metadata": {
    "application/vnd.databricks.v1+cell": {
     "cellMetadata": {
      "byteLimit": 2048000,
      "rowLimit": 10000
     },
     "inputWidgets": {},
     "nuid": "6dde0e86-ce72-4237-8465-e28709972175",
     "showTitle": false,
     "tableResultSettingsMap": {},
     "title": ""
    }
   },
   "source": [
    "\n",
    "###### Pysaprk Query for highest purchaser of glossy paper\n",
    "from pyspark.sql.functions import *\n",
    "\n",
    "df_orders = spark.sql(\n",
    "    f\"\"\"\n",
    "    SELECT * FROM {silver_schema}.orders\n",
    "          \"\"\"\n",
    ")\n",
    "\n",
    "df_accounts = spark.sql(\n",
    "    f\"\"\"\n",
    "    SELECT * FROM {silver_schema}.accounts\n",
    "          \"\"\"\n",
    ") \n",
    "\n",
    "df_gloss_qty_by_customer = df_orders.alias(\"o\").join(df_accounts.alias(\"a\"), col(\"o.account_id\") == col(\"a.id\"), \"inner\"). \\\n",
    "groupBy(col(\"o.account_id\"), col(\"a.name\")).agg(sum(col(\"gloss_qty\")). \\\n",
    "alias(\"total_gloss_qty_purchased\"),round(sum(col(\"gloss_amt_usd\")),2).alias(\"total_gloss_amount_usd\")). \\\n",
    "orderBy(\"total_gloss_qty_purchased\", ascending=False)"
   ]
  },
  {
   "cell_type": "code",
   "execution_count": 0,
   "metadata": {
    "application/vnd.databricks.v1+cell": {
     "cellMetadata": {
      "byteLimit": 2048000,
      "rowLimit": 10000
     },
     "inputWidgets": {},
     "nuid": "e118fc72-4d57-4ba3-8e6c-e1ace9fcb75a",
     "showTitle": false,
     "tableResultSettingsMap": {},
     "title": ""
    }
   },
   "outputs": [],
   "source": [
    "df_gloss_qty_by_customer = spark.sql(\n",
    "    f\"\"\"\n",
    "    SELECT o.account_id,a.name,SUM(o.gloss_qty) total_gloss_qty_purchased,ROUND(sum(gloss_amt_usd),2) total_gloss_amount_usd \n",
    "    FROM {silver_schema}.ORDERS o JOIN {silver_schema}.ACCOUNTS a ON o.account_id = a.id\n",
    "    GROUP BY o.account_id, a.name\n",
    "    ORDER BY total_gloss_qty_purchased DESC\n",
    "    \"\"\"\n",
    ")\n"
   ]
  },
  {
   "cell_type": "code",
   "execution_count": 0,
   "metadata": {
    "application/vnd.databricks.v1+cell": {
     "cellMetadata": {
      "byteLimit": 2048000,
      "rowLimit": 10000
     },
     "inputWidgets": {},
     "nuid": "660fb959-3895-4d18-85d2-bc8fbfc8e2a5",
     "showTitle": false,
     "tableResultSettingsMap": {},
     "title": ""
    }
   },
   "outputs": [],
   "source": [
    "#writing df_gloss_qty_by_customer as a denormalized table into gold layer in Parquet for ADF compatibility\n",
    "df_gloss_qty_by_customer.write.mode(\"overwrite\").parquet(\n",
    "    f\"abfss://gold@{storage_account_name}.dfs.core.windows.net/gloss_qty_by_customer\"\n",
    ")\n"
   ]
  },
  {
   "cell_type": "code",
   "execution_count": 0,
   "metadata": {
    "application/vnd.databricks.v1+cell": {
     "cellMetadata": {
      "byteLimit": 2048000,
      "rowLimit": 10000
     },
     "inputWidgets": {},
     "nuid": "0bc72309-4109-4575-aa11-ba92e2acfa2e",
     "showTitle": false,
     "tableResultSettingsMap": {},
     "title": ""
    }
   },
   "outputs": [],
   "source": [
    "dbutils.notebook.exit([\"gold.top_customers_by_revenue\",\"gold.gloss_qty_by_customer\"])"
   ]
  },
  {
   "cell_type": "code",
   "execution_count": 0,
   "metadata": {
    "application/vnd.databricks.v1+cell": {
     "cellMetadata": {
      "byteLimit": 2048000,
      "rowLimit": 10000
     },
     "inputWidgets": {},
     "nuid": "82120e97-cd9d-4614-b568-6c66f9639215",
     "showTitle": false,
     "tableResultSettingsMap": {},
     "title": ""
    }
   },
   "outputs": [],
   "source": []
  }
 ],
 "metadata": {
  "application/vnd.databricks.v1+notebook": {
   "computePreferences": null,
   "dashboards": [],
   "environmentMetadata": {
    "base_environment": "",
    "environment_version": "2"
   },
   "inputWidgetPreferences": null,
   "language": "python",
   "notebookMetadata": {
    "mostRecentlyExecutedCommandWithImplicitDF": {
     "commandId": 4253921917815938,
     "dataframes": [
      "_sqldf"
     ]
    },
    "pythonIndentUnit": 4
   },
   "notebookName": "silver_to_gold_ingestion_script",
   "widgets": {
    "gold_schema": {
     "currentValue": "gold",
     "nuid": "a41b09bb-de46-4058-ac20-921851c12b82",
     "typedWidgetInfo": {
      "autoCreated": false,
      "defaultValue": "",
      "label": null,
      "name": "gold_schema",
      "options": {
       "widgetDisplayType": "Text",
       "validationRegex": null
      },
      "parameterDataType": "String"
     },
     "widgetInfo": {
      "widgetType": "text",
      "defaultValue": "",
      "label": null,
      "name": "gold_schema",
      "options": {
       "widgetType": "text",
       "autoCreated": null,
       "validationRegex": null
      }
     }
    },
    "silver_schema": {
     "currentValue": "silver",
     "nuid": "872ef0f0-2790-466b-90d3-c7ea46904615",
     "typedWidgetInfo": {
      "autoCreated": false,
      "defaultValue": "",
      "label": null,
      "name": "silver_schema",
      "options": {
       "widgetDisplayType": "Text",
       "validationRegex": null
      },
      "parameterDataType": "String"
     },
     "widgetInfo": {
      "widgetType": "text",
      "defaultValue": "",
      "label": null,
      "name": "silver_schema",
      "options": {
       "widgetType": "text",
       "autoCreated": null,
       "validationRegex": null
      }
     }
    },
    "storage_account_name": {
     "currentValue": "thassessmentsa",
     "nuid": "1bcdc06c-9656-4d35-959f-a22df99a4ed4",
     "typedWidgetInfo": {
      "autoCreated": false,
      "defaultValue": "",
      "label": null,
      "name": "storage_account_name",
      "options": {
       "widgetDisplayType": "Text",
       "validationRegex": null
      },
      "parameterDataType": "String"
     },
     "widgetInfo": {
      "widgetType": "text",
      "defaultValue": "",
      "label": null,
      "name": "storage_account_name",
      "options": {
       "widgetType": "text",
       "autoCreated": null,
       "validationRegex": null
      }
     }
    }
   }
  },
  "language_info": {
   "name": "python"
  }
 },
 "nbformat": 4,
 "nbformat_minor": 0
}
