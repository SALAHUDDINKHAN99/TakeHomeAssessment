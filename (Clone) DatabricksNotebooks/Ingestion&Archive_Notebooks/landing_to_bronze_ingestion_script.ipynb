{
 "cells": [
  {
   "cell_type": "code",
   "execution_count": 0,
   "metadata": {
    "application/vnd.databricks.v1+cell": {
     "cellMetadata": {
      "byteLimit": 2048000,
      "rowLimit": 10000
     },
     "inputWidgets": {},
     "nuid": "62e7dfea-304c-42c0-94f3-328485db4af7",
     "showTitle": false,
     "tableResultSettingsMap": {},
     "title": ""
    }
   },
   "outputs": [],
   "source": [
    "dbutils.widgets.text(\"bronze_schema\",\"\")\n",
    "dbutils.widgets.text(\"bronze_tbl\",\"\")\n",
    "dbutils.widgets.text(\"last_insert_dttm\",\"\")\n",
    "dbutils.widgets.text(\"load_id\",\"\")\n",
    "dbutils.widgets.text(\"storage_account_name\",\"\")\n",
    "dbutils.widgets.text(\"source_table_name\",\"\")"
   ]
  },
  {
   "cell_type": "code",
   "execution_count": 0,
   "metadata": {
    "application/vnd.databricks.v1+cell": {
     "cellMetadata": {
      "byteLimit": 2048000,
      "rowLimit": 10000
     },
     "inputWidgets": {},
     "nuid": "9674ad80-0205-4d15-906a-bd54b7409dc6",
     "showTitle": false,
     "tableResultSettingsMap": {},
     "title": ""
    }
   },
   "outputs": [],
   "source": [
    "bronze_schema = dbutils.widgets.get(\"bronze_schema\")\n",
    "bronze_tbl = dbutils.widgets.get(\"bronze_tbl\")\n",
    "last_insert_dttm = dbutils.widgets.get(\"last_insert_dttm\")\n",
    "load_id = dbutils.widgets.get(\"load_id\")\n",
    "storage_account_name = dbutils.widgets.get(\"storage_account_name\")\n",
    "source_table_name = dbutils.widgets.get(\"source_table_name\")"
   ]
  },
  {
   "cell_type": "code",
   "execution_count": 0,
   "metadata": {
    "application/vnd.databricks.v1+cell": {
     "cellMetadata": {
      "byteLimit": 2048000,
      "rowLimit": 10000
     },
     "inputWidgets": {},
     "nuid": "0f366432-a1ea-4a3b-ab2a-35ca22693bbd",
     "showTitle": false,
     "tableResultSettingsMap": {},
     "title": ""
    }
   },
   "outputs": [],
   "source": [
    "#reading source file into df\n",
    "\n",
    "source_file_path = f'abfss://landing@{storage_account_name}.dfs.core.windows.net/mysql_files/{source_table_name}'\n",
    "\n",
    "df = spark.read.format(\"parquet\").load(source_file_path)"
   ]
  },
  {
   "cell_type": "code",
   "execution_count": 0,
   "metadata": {
    "application/vnd.databricks.v1+cell": {
     "cellMetadata": {
      "byteLimit": 2048000,
      "rowLimit": 10000
     },
     "inputWidgets": {},
     "nuid": "e3ac2d28-1731-4b4c-ba24-580ffe6baba1",
     "showTitle": false,
     "tableResultSettingsMap": {},
     "title": ""
    }
   },
   "outputs": [],
   "source": [
    "#checking if the column names and first row values are same in the table\n",
    "\n",
    "from pyspark.sql.functions import *\n",
    "\n",
    "\n",
    "first_column_name = df.columns[0]\n",
    "first_column_first_row_value = df.select(df.columns[0]).first()[0]\n",
    "\n",
    "#removing the row if it's same as the column name\n",
    "\n",
    "if first_column_name == first_column_first_row_value:\n",
    "    df = df.filter(col(first_column_name) != first_column_first_row_value)\n",
    "    source_file_records_count = df.count()\n",
    "else:\n",
    "    source_file_records_count = df.count()\n",
    "\n",
    "#create temporary view for the source file\n",
    "df.createOrReplaceTempView(f\"{source_table_name}_temp\")\n"
   ]
  },
  {
   "cell_type": "code",
   "execution_count": 0,
   "metadata": {
    "application/vnd.databricks.v1+cell": {
     "cellMetadata": {
      "byteLimit": 2048000,
      "rowLimit": 10000
     },
     "inputWidgets": {},
     "nuid": "69106c43-a82b-4d79-9e63-d6b1f9eef2aa",
     "showTitle": false,
     "tableResultSettingsMap": {},
     "title": ""
    }
   },
   "outputs": [],
   "source": [
    "spark.sql(f\"\"\"\n",
    "          INSERT INTO {bronze_schema}.{bronze_tbl}\n",
    "          SELECT *, '{last_insert_dttm}' AS last_insert_dttm, '{load_id}' AS load_id FROM {source_table_name}_temp\n",
    "          \"\"\")"
   ]
  },
  {
   "cell_type": "code",
   "execution_count": 0,
   "metadata": {
    "application/vnd.databricks.v1+cell": {
     "cellMetadata": {},
     "inputWidgets": {},
     "nuid": "44f1032a-9b87-4aad-8fa6-9f637a01ffa2",
     "showTitle": false,
     "tableResultSettingsMap": {},
     "title": ""
    }
   },
   "outputs": [],
   "source": [
    "bronze_tbl_records_count = spark.sql(f\"SELECT COUNT(*) FROM {bronze_schema}.{bronze_tbl} WHERE load_id = '{load_id}'\").collect()[0][0]"
   ]
  },
  {
   "cell_type": "code",
   "execution_count": 0,
   "metadata": {
    "application/vnd.databricks.v1+cell": {
     "cellMetadata": {},
     "inputWidgets": {},
     "nuid": "1f3b543f-6e4a-4a64-ae47-811dc962cbdd",
     "showTitle": false,
     "tableResultSettingsMap": {},
     "title": ""
    }
   },
   "outputs": [],
   "source": [
    "#returning records count to ADF\n",
    "dbutils.notebook.exit([source_file_records_count,bronze_tbl_records_count])"
   ]
  }
 ],
 "metadata": {
  "application/vnd.databricks.v1+notebook": {
   "computePreferences": null,
   "dashboards": [],
   "environmentMetadata": {
    "base_environment": "",
    "environment_version": "2"
   },
   "inputWidgetPreferences": null,
   "language": "python",
   "notebookMetadata": {
    "mostRecentlyExecutedCommandWithImplicitDF": {
     "commandId": 6411476588906458,
     "dataframes": [
      "_sqldf"
     ]
    },
    "pythonIndentUnit": 4
   },
   "notebookName": "landing_to_bronze_ingestion_script",
   "widgets": {
    "bronze_schema": {
     "currentValue": "",
     "nuid": "40b218c0-0217-4745-ad8f-bebddad913f6",
     "typedWidgetInfo": {
      "autoCreated": false,
      "defaultValue": "",
      "label": null,
      "name": "bronze_schema",
      "options": {
       "widgetDisplayType": "Text",
       "validationRegex": null
      },
      "parameterDataType": "String"
     },
     "widgetInfo": {
      "widgetType": "text",
      "defaultValue": "",
      "label": null,
      "name": "bronze_schema",
      "options": {
       "widgetType": "text",
       "autoCreated": false,
       "validationRegex": null
      }
     }
    },
    "bronze_tbl": {
     "currentValue": "",
     "nuid": "b468d309-48af-4a78-a5b0-a33f9daa7346",
     "typedWidgetInfo": {
      "autoCreated": false,
      "defaultValue": "",
      "label": null,
      "name": "bronze_tbl",
      "options": {
       "widgetDisplayType": "Text",
       "validationRegex": null
      },
      "parameterDataType": "String"
     },
     "widgetInfo": {
      "widgetType": "text",
      "defaultValue": "",
      "label": null,
      "name": "bronze_tbl",
      "options": {
       "widgetType": "text",
       "autoCreated": false,
       "validationRegex": null
      }
     }
    },
    "last_insert_dttm": {
     "currentValue": "",
     "nuid": "fa9ca2d5-31e5-42e1-b283-4bca00562866",
     "typedWidgetInfo": {
      "autoCreated": false,
      "defaultValue": "",
      "label": null,
      "name": "last_insert_dttm",
      "options": {
       "widgetDisplayType": "Text",
       "validationRegex": null
      },
      "parameterDataType": "String"
     },
     "widgetInfo": {
      "widgetType": "text",
      "defaultValue": "",
      "label": null,
      "name": "last_insert_dttm",
      "options": {
       "widgetType": "text",
       "autoCreated": false,
       "validationRegex": null
      }
     }
    },
    "load_id": {
     "currentValue": "",
     "nuid": "74be6216-6486-46ff-8b24-6131eadfb441",
     "typedWidgetInfo": {
      "autoCreated": false,
      "defaultValue": "",
      "label": null,
      "name": "load_id",
      "options": {
       "widgetDisplayType": "Text",
       "validationRegex": null
      },
      "parameterDataType": "String"
     },
     "widgetInfo": {
      "widgetType": "text",
      "defaultValue": "",
      "label": null,
      "name": "load_id",
      "options": {
       "widgetType": "text",
       "autoCreated": false,
       "validationRegex": null
      }
     }
    },
    "source_table_name": {
     "currentValue": "",
     "nuid": "be49e668-fdec-43ba-a45f-e358b55196b0",
     "typedWidgetInfo": {
      "autoCreated": false,
      "defaultValue": "",
      "label": null,
      "name": "source_table_name",
      "options": {
       "widgetDisplayType": "Text",
       "validationRegex": null
      },
      "parameterDataType": "String"
     },
     "widgetInfo": {
      "widgetType": "text",
      "defaultValue": "",
      "label": null,
      "name": "source_table_name",
      "options": {
       "widgetType": "text",
       "autoCreated": false,
       "validationRegex": null
      }
     }
    },
    "storage_account_name": {
     "currentValue": "",
     "nuid": "87d08dd7-4cba-4394-aa1f-209d871735c3",
     "typedWidgetInfo": {
      "autoCreated": false,
      "defaultValue": "",
      "label": null,
      "name": "storage_account_name",
      "options": {
       "widgetDisplayType": "Text",
       "validationRegex": null
      },
      "parameterDataType": "String"
     },
     "widgetInfo": {
      "widgetType": "text",
      "defaultValue": "",
      "label": null,
      "name": "storage_account_name",
      "options": {
       "widgetType": "text",
       "autoCreated": false,
       "validationRegex": null
      }
     }
    }
   }
  },
  "language_info": {
   "name": "python"
  }
 },
 "nbformat": 4,
 "nbformat_minor": 0
}
