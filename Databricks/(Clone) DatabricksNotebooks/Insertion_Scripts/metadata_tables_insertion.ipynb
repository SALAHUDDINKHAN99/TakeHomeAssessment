{
 "cells": [
  {
   "cell_type": "code",
   "execution_count": 0,
   "metadata": {
    "application/vnd.databricks.v1+cell": {
     "cellMetadata": {
      "byteLimit": 2048000,
      "rowLimit": 10000
     },
     "inputWidgets": {},
     "nuid": "dd5bcf21-7528-45b5-b4bb-641cc1e9bdf0",
     "showTitle": false,
     "tableResultSettingsMap": {},
     "title": ""
    }
   },
   "outputs": [],
   "source": [
    "dbutils.widgets.text(\"logic_app_url\", \"\")\n",
    "dbutils.widgets.text(\"email_id\", \"\")\n",
    "dbutils.widgets.text(\"storage_account_name\", \"\")"
   ]
  },
  {
   "cell_type": "code",
   "execution_count": 0,
   "metadata": {
    "application/vnd.databricks.v1+cell": {
     "cellMetadata": {
      "byteLimit": 2048000,
      "rowLimit": 10000
     },
     "inputWidgets": {},
     "nuid": "6745a897-64a5-4aeb-863a-ceea2bb8fddf",
     "showTitle": false,
     "tableResultSettingsMap": {},
     "title": ""
    }
   },
   "outputs": [],
   "source": [
    "logic_app_url = dbutils.widgets.get(\"logic_app_url\")\n",
    "email_id = dbutils.widgets.get(\"email_id\")\n",
    "storage_account_name = dbutils.widgets.get(\"storage_account_name\")"
   ]
  },
  {
   "cell_type": "code",
   "execution_count": 0,
   "metadata": {
    "application/vnd.databricks.v1+cell": {
     "cellMetadata": {
      "byteLimit": 2048000,
      "rowLimit": 10000
     },
     "inputWidgets": {},
     "nuid": "be4ca35f-eac0-4b28-bb7f-bf85b6361243",
     "showTitle": false,
     "tableResultSettingsMap": {},
     "title": ""
    }
   },
   "outputs": [],
   "source": [
    "spark.sql(f\"\"\"\n",
    "          INSERT INTO metadatadb.tbl_source_parameters VALUES ('MySQL-onPrem','localhost','3306','parch_and_posey','root','mysql-password','landing','cz75514.uae-north.azure','parch_and_posey','THASSESSMENT_WH','SALAHKHAN','sf-password','ACCOUNTADMIN','{logic_app_url}','{email_id}','{storage_account_name}')\n",
    "          \"\"\")"
   ]
  },
  {
   "cell_type": "code",
   "execution_count": 0,
   "metadata": {
    "application/vnd.databricks.v1+cell": {
     "cellMetadata": {
      "byteLimit": 2048000,
      "rowLimit": 10000
     },
     "inputWidgets": {},
     "nuid": "72ad8d1f-b11d-4cf0-920f-8cb3f16be22f",
     "showTitle": false,
     "tableResultSettingsMap": {},
     "title": ""
    }
   },
   "outputs": [],
   "source": [
    "spark.sql(f\"\"\"\n",
    "          INSERT INTO metadatadb.tbl_sink_parameters VALUES \n",
    "          ('MySQL-onPrem','accounts','mysql_files','bronze','accounts','silver','accounts','gold'),\n",
    "          ('MySQL-onPrem','orders','mysql_files','bronze','orders','silver','orders','gold'),\n",
    "          ('MySQL-onPrem','region','mysql_files','bronze','region','silver','region','gold'),\n",
    "          ('MySQL-onPrem','sales_reps','mysql_files','bronze','sales_reps','silver','sales_reps','gold'),\n",
    "          ('MySQL-onPrem','web_events','mysql_files','bronze','web_events','silver','web_events','gold')\n",
    "          \"\"\")"
   ]
  },
  {
   "cell_type": "code",
   "execution_count": 0,
   "metadata": {
    "application/vnd.databricks.v1+cell": {
     "cellMetadata": {
      "byteLimit": 2048000,
      "rowLimit": 10000
     },
     "inputWidgets": {},
     "nuid": "b616a3f7-b95f-403d-914e-05e813c39eff",
     "showTitle": false,
     "tableResultSettingsMap": {},
     "title": ""
    }
   },
   "outputs": [],
   "source": [
    "#udating Logic App URL\n",
    "spark.sql(f\"\"\"\n",
    "          UPDATE metadatadb.tbl_source_parameters SET logic_app_url = '{logic_app_url}' WHERE source_ref = 'MySQL-onPrem'\"\"\" )"
   ]
  },
  {
   "cell_type": "code",
   "execution_count": 0,
   "metadata": {
    "application/vnd.databricks.v1+cell": {
     "cellMetadata": {
      "byteLimit": 2048000,
      "rowLimit": 10000
     },
     "inputWidgets": {},
     "nuid": "1fc0fc15-eeae-4381-a55d-024d32b55ed4",
     "showTitle": false,
     "tableResultSettingsMap": {},
     "title": ""
    }
   },
   "outputs": [],
   "source": [
    "#uppdating email id\n",
    "spark.sql(f\"\"\"\n",
    "          UPDATE metadatadb.tbl_source_parameters SET email_id = '{email_id}' WHERE source_ref = 'MySQL-onPrem'\"\"\" )"
   ]
  },
  {
   "cell_type": "code",
   "execution_count": 0,
   "metadata": {
    "application/vnd.databricks.v1+cell": {
     "cellMetadata": {},
     "inputWidgets": {},
     "nuid": "3dedef75-2d7c-4d7c-89b9-9a70d6adc9da",
     "showTitle": false,
     "tableResultSettingsMap": {},
     "title": ""
    }
   },
   "outputs": [],
   "source": []
  }
 ],
 "metadata": {
  "application/vnd.databricks.v1+notebook": {
   "computePreferences": null,
   "dashboards": [],
   "environmentMetadata": {
    "base_environment": "",
    "environment_version": "2"
   },
   "inputWidgetPreferences": null,
   "language": "python",
   "notebookMetadata": {
    "mostRecentlyExecutedCommandWithImplicitDF": {
     "commandId": 4995554576673607,
     "dataframes": [
      "_sqldf"
     ]
    },
    "pythonIndentUnit": 4
   },
   "notebookName": "metadata_tables_insertion",
   "widgets": {
    "adls_url": {
     "currentValue": "adls NA",
     "nuid": "857666db-6fb4-40fe-9cc4-480e441327ef",
     "typedWidgetInfo": {
      "autoCreated": false,
      "defaultValue": "",
      "label": null,
      "name": "adls_url",
      "options": {
       "widgetDisplayType": "Text",
       "validationRegex": null
      },
      "parameterDataType": "String"
     },
     "widgetInfo": {
      "widgetType": "text",
      "defaultValue": "",
      "label": null,
      "name": "adls_url",
      "options": {
       "widgetType": "text",
       "autoCreated": null,
       "validationRegex": null
      }
     }
    },
    "email_id": {
     "currentValue": "snpatan1999@gmail.com",
     "nuid": "45808ff1-978a-4c1e-b8ed-7da47d1f071e",
     "typedWidgetInfo": {
      "autoCreated": false,
      "defaultValue": "",
      "label": null,
      "name": "email_id",
      "options": {
       "widgetDisplayType": "Text",
       "validationRegex": null
      },
      "parameterDataType": "String"
     },
     "widgetInfo": {
      "widgetType": "text",
      "defaultValue": "",
      "label": null,
      "name": "email_id",
      "options": {
       "widgetType": "text",
       "autoCreated": null,
       "validationRegex": null
      }
     }
    },
    "logic_app_url": {
     "currentValue": "https://prod-01.centralindia.logic.azure.com:443/workflows/f1c60061415747e4898d83fb0031f8b1/triggers/When_a_HTTP_request_is_received/paths/invoke?api-version=2016-10-01&sp=%2Ftriggers%2FWhen_a_HTTP_request_is_received%2Frun&sv=1.0&sig=kh3i1KiWMIdJ75HW6b4hcFrbQxWkInoN3CnwC42Ux_w",
     "nuid": "6c414866-3117-4290-88de-4438a18c846d",
     "typedWidgetInfo": {
      "autoCreated": false,
      "defaultValue": "",
      "label": null,
      "name": "logic_app_url",
      "options": {
       "widgetDisplayType": "Text",
       "validationRegex": null
      },
      "parameterDataType": "String"
     },
     "widgetInfo": {
      "widgetType": "text",
      "defaultValue": "",
      "label": null,
      "name": "logic_app_url",
      "options": {
       "widgetType": "text",
       "autoCreated": null,
       "validationRegex": null
      }
     }
    },
    "storage_account_name": {
     "currentValue": "thassessmentsa",
     "nuid": "f6f3ebb7-2b76-4164-a728-5d0c11562ac8",
     "typedWidgetInfo": {
      "autoCreated": false,
      "defaultValue": "",
      "label": null,
      "name": "storage_account_name",
      "options": {
       "widgetDisplayType": "Text",
       "validationRegex": null
      },
      "parameterDataType": "String"
     },
     "widgetInfo": {
      "widgetType": "text",
      "defaultValue": "",
      "label": null,
      "name": "storage_account_name",
      "options": {
       "widgetType": "text",
       "autoCreated": null,
       "validationRegex": null
      }
     }
    }
   }
  },
  "language_info": {
   "name": "python"
  }
 },
 "nbformat": 4,
 "nbformat_minor": 0
}
