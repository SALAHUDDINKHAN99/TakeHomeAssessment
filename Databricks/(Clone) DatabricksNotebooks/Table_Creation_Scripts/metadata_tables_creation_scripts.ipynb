{
 "cells": [
  {
   "cell_type": "code",
   "execution_count": 0,
   "metadata": {
    "application/vnd.databricks.v1+cell": {
     "cellMetadata": {
      "byteLimit": 2048000,
      "rowLimit": 10000
     },
     "inputWidgets": {},
     "nuid": "fa59672b-a195-4db6-88d3-cd0167f52aab",
     "showTitle": false,
     "tableResultSettingsMap": {},
     "title": ""
    }
   },
   "outputs": [],
   "source": [
    "dbutils.widgets.text(\"storage_account\", \"\")\n",
    "storage_account = dbutils.widgets.get(\"storage_account\")"
   ]
  },
  {
   "cell_type": "code",
   "execution_count": 0,
   "metadata": {
    "application/vnd.databricks.v1+cell": {
     "cellMetadata": {
      "byteLimit": 2048000,
      "implicitDf": true,
      "rowLimit": 10000
     },
     "inputWidgets": {},
     "nuid": "45d52fdb-b876-4099-bb1f-3f202b7dfdf7",
     "showTitle": false,
     "tableResultSettingsMap": {},
     "title": ""
    }
   },
   "outputs": [],
   "source": [
    "%sql\n",
    "CREATE DATABASE IF NOT EXISTS hive_metastore.metadataDB"
   ]
  },
  {
   "cell_type": "code",
   "execution_count": 0,
   "metadata": {
    "application/vnd.databricks.v1+cell": {
     "cellMetadata": {
      "byteLimit": 2048000,
      "rowLimit": 10000
     },
     "inputWidgets": {},
     "nuid": "73bde4fc-e06f-4708-bc7f-557381a29028",
     "showTitle": false,
     "tableResultSettingsMap": {},
     "title": ""
    }
   },
   "outputs": [],
   "source": [
    "spark.sql(f\"\"\"\n",
    "        CREATE OR REPLACE TABLE metadataDB.tbl_source_parameters(\n",
    "            source_ref STRING,\n",
    "            mysql_server_name STRING,\n",
    "            mysql_port INT,\n",
    "            mysql_database_name STRING, \n",
    "            mysql_user_name STRING, \n",
    "            mysql_password STRING,\n",
    "            container_name STRING,\n",
    "            sf_account_name STRING,\n",
    "            sf_database_name STRING,\n",
    "            sf_warehouse_name STRING,\n",
    "            sf_user_name STRING,\n",
    "            sf_password STRING,\n",
    "            sf_role STRING,\n",
    "            logic_app_url STRING,\n",
    "            email_id STRING,\n",
    "            storage_account_name STRING)\n",
    "        LOCATION 'abfss://metadata@{storage_account}.dfs.core.windows.net/tbl_source_parameters'\n",
    "          \"\"\")\n"
   ]
  },
  {
   "cell_type": "code",
   "execution_count": 0,
   "metadata": {
    "application/vnd.databricks.v1+cell": {
     "cellMetadata": {
      "byteLimit": 2048000,
      "rowLimit": 10000
     },
     "inputWidgets": {},
     "nuid": "00848a11-8696-42d8-be73-02caa12b1c83",
     "showTitle": false,
     "tableResultSettingsMap": {},
     "title": ""
    }
   },
   "outputs": [],
   "source": [
    "spark.sql(f\"\"\"\n",
    "CREATE OR REPLACE TABLE metadataDB.tbl_sink_parameters (\n",
    "    source_ref STRING,\n",
    "    source_table_name STRING,\n",
    "    sink_directory STRING,\n",
    "    bronze_schema STRING,\n",
    "    bronze_tbl STRING,\n",
    "    silver_schema STRING,\n",
    "    silver_tbl STRING,\n",
    "    gold_schema STRING\n",
    ")\n",
    "LOCATION 'abfss://metadata@{storage_account}.dfs.core.windows.net/tbl_sink_parameters'\n",
    "\"\"\")"
   ]
  },
  {
   "cell_type": "code",
   "execution_count": 0,
   "metadata": {
    "application/vnd.databricks.v1+cell": {
     "cellMetadata": {
      "byteLimit": 2048000,
      "rowLimit": 10000
     },
     "inputWidgets": {},
     "nuid": "86d26a33-5e2a-40c9-b35f-855453a1f966",
     "showTitle": false,
     "tableResultSettingsMap": {},
     "title": ""
    }
   },
   "outputs": [],
   "source": []
  }
 ],
 "metadata": {
  "application/vnd.databricks.v1+notebook": {
   "computePreferences": null,
   "dashboards": [],
   "environmentMetadata": {
    "base_environment": "",
    "environment_version": "2"
   },
   "inputWidgetPreferences": null,
   "language": "python",
   "notebookMetadata": {
    "mostRecentlyExecutedCommandWithImplicitDF": {
     "commandId": 6710711425180399,
     "dataframes": [
      "_sqldf"
     ]
    },
    "pythonIndentUnit": 4
   },
   "notebookName": "metadata_tables_creation_scripts",
   "widgets": {
    "storage_account": {
     "currentValue": "thassessmentsa",
     "nuid": "1fa36258-5c28-40fb-b4f8-a9f29b839eea",
     "typedWidgetInfo": {
      "autoCreated": false,
      "defaultValue": "",
      "label": null,
      "name": "storage_account",
      "options": {
       "widgetDisplayType": "Text",
       "validationRegex": null
      },
      "parameterDataType": "String"
     },
     "widgetInfo": {
      "widgetType": "text",
      "defaultValue": "",
      "label": null,
      "name": "storage_account",
      "options": {
       "widgetType": "text",
       "autoCreated": null,
       "validationRegex": null
      }
     }
    }
   }
  },
  "language_info": {
   "name": "python"
  }
 },
 "nbformat": 4,
 "nbformat_minor": 0
}
