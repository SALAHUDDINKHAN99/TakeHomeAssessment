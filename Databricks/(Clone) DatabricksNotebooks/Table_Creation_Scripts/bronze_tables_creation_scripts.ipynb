{
 "cells": [
  {
   "cell_type": "code",
   "execution_count": 0,
   "metadata": {
    "application/vnd.databricks.v1+cell": {
     "cellMetadata": {
      "byteLimit": 2048000,
      "rowLimit": 10000
     },
     "inputWidgets": {},
     "nuid": "852d9659-7f1b-4c1c-bf14-50712cfbecb7",
     "showTitle": false,
     "tableResultSettingsMap": {},
     "title": ""
    }
   },
   "outputs": [],
   "source": [
    "dbutils.widgets.text(\"storage_account_name\", \"\")\n",
    "storage_account_name = dbutils.widgets.get(\"storage_account_name\")"
   ]
  },
  {
   "cell_type": "code",
   "execution_count": 0,
   "metadata": {
    "application/vnd.databricks.v1+cell": {
     "cellMetadata": {
      "byteLimit": 2048000,
      "rowLimit": 10000
     },
     "inputWidgets": {},
     "nuid": "d9e41292-15c0-41bc-af69-8f989d2685d1",
     "showTitle": false,
     "tableResultSettingsMap": {},
     "title": ""
    }
   },
   "outputs": [],
   "source": [
    "spark.sql(\n",
    "    f\"\"\"\n",
    "        CREATE DATABASE IF NOT EXISTS hive_metastore.bronze\n",
    "        \"\"\"\n",
    ")"
   ]
  },
  {
   "cell_type": "code",
   "execution_count": 0,
   "metadata": {
    "application/vnd.databricks.v1+cell": {
     "cellMetadata": {
      "byteLimit": 2048000,
      "rowLimit": 10000
     },
     "inputWidgets": {},
     "nuid": "1200d406-292f-43ca-9454-947a1bf3d5b8",
     "showTitle": false,
     "tableResultSettingsMap": {},
     "title": ""
    }
   },
   "outputs": [],
   "source": [
    "spark.sql(\n",
    "    f\"\"\"\n",
    "          CREATE OR REPLACE TABLE bronze.accounts (\n",
    "            id STRING NOT NULL,\n",
    "            name STRING,\n",
    "            website STRING,\n",
    "            lat DOUBLE,\n",
    "            long DOUBLE,\n",
    "            primary_poc STRING,\n",
    "            sales_rep_id STRING,\n",
    "            last_insert_dttm STRING,\n",
    "            load_id STRING\n",
    "            )\n",
    "            LOCATION 'abfss://bronze@{storage_account_name}.dfs.core.windows.net/accounts'\n",
    "          \"\"\"\n",
    ")"
   ]
  },
  {
   "cell_type": "code",
   "execution_count": 0,
   "metadata": {
    "application/vnd.databricks.v1+cell": {
     "cellMetadata": {
      "byteLimit": 2048000,
      "rowLimit": 10000
     },
     "inputWidgets": {},
     "nuid": "2eccf9d1-60e4-428b-9cf5-70ecfa88cc72",
     "showTitle": false,
     "tableResultSettingsMap": {},
     "title": ""
    }
   },
   "outputs": [],
   "source": [
    "spark.sql(\n",
    "    f\"\"\"\n",
    "          CREATE OR REPLACE TABLE bronze.orders (\n",
    "              id STRING NOT NULL,\n",
    "                account_id STRING,\n",
    "                occurred_at TIMESTAMP,\n",
    "                standard_qty INT,\n",
    "                gloss_qty INT,\n",
    "                poster_qty BIGINT,\n",
    "                total INT,\n",
    "                standard_amt_usd DOUBLE,\n",
    "                gloss_amt_usd DOUBLE,\n",
    "                poster_amt_usd DOUBLE,\n",
    "                total_amt_usd DOUBLE,\n",
    "                last_insert_dttm STRING,\n",
    "                load_id STRING\n",
    "            )\n",
    "            LOCATION 'abfss://bronze@{storage_account_name}.dfs.core.windows.net/orders'\n",
    "          \"\"\"\n",
    ")"
   ]
  },
  {
   "cell_type": "code",
   "execution_count": 0,
   "metadata": {
    "application/vnd.databricks.v1+cell": {
     "cellMetadata": {
      "byteLimit": 2048000,
      "rowLimit": 10000
     },
     "inputWidgets": {},
     "nuid": "86f9ee8d-e935-47b6-8e59-d52f05da4c6e",
     "showTitle": false,
     "tableResultSettingsMap": {},
     "title": ""
    }
   },
   "outputs": [],
   "source": [
    "spark.sql(\n",
    "    f\"\"\"\n",
    "          CREATE OR REPLACE TABLE bronze.region (\n",
    "              id STRING NOT NULL,\n",
    "              name STRING,\n",
    "              last_insert_dttm STRING,\n",
    "              load_id STRING\n",
    "            )\n",
    "            LOCATION 'abfss://bronze@{storage_account_name}.dfs.core.windows.net/region'\n",
    "          \"\"\"\n",
    ")"
   ]
  },
  {
   "cell_type": "code",
   "execution_count": 0,
   "metadata": {
    "application/vnd.databricks.v1+cell": {
     "cellMetadata": {
      "byteLimit": 2048000,
      "rowLimit": 10000
     },
     "inputWidgets": {},
     "nuid": "4f67b5b5-de1d-4c40-9230-af17861ad134",
     "showTitle": false,
     "tableResultSettingsMap": {},
     "title": ""
    }
   },
   "outputs": [],
   "source": [
    "spark.sql(\n",
    "    f\"\"\"\n",
    "          CREATE OR REPLACE TABLE bronze.sales_reps (\n",
    "              id STRING NOT NULL,\n",
    "              name STRING,\n",
    "              region_id STRING,\n",
    "              last_insert_dttm STRING,\n",
    "              load_id STRING\n",
    "            )\n",
    "            LOCATION 'abfss://bronze@{storage_account_name}.dfs.core.windows.net/sales_reps'\n",
    "          \"\"\"\n",
    ")"
   ]
  },
  {
   "cell_type": "code",
   "execution_count": 0,
   "metadata": {
    "application/vnd.databricks.v1+cell": {
     "cellMetadata": {
      "byteLimit": 2048000,
      "rowLimit": 10000
     },
     "inputWidgets": {},
     "nuid": "65c40055-891f-487c-9934-80ca0bb3882d",
     "showTitle": false,
     "tableResultSettingsMap": {},
     "title": ""
    }
   },
   "outputs": [],
   "source": [
    "spark.sql(\n",
    "    f\"\"\"\n",
    "          CREATE OR REPLACE TABLE bronze.web_events (\n",
    "            id STRING NOT NULL,\n",
    "            account_id STRING,\n",
    "            occurred_at TIMESTAMP,\n",
    "            channel STRING,\n",
    "            last_insert_dttm STRING,\n",
    "            load_id STRING\n",
    "            )\n",
    "            LOCATION 'abfss://bronze@{storage_account_name}.dfs.core.windows.net/web_events'\n",
    "          \"\"\"\n",
    ")"
   ]
  }
 ],
 "metadata": {
  "application/vnd.databricks.v1+notebook": {
   "computePreferences": null,
   "dashboards": [],
   "environmentMetadata": {
    "base_environment": "",
    "environment_version": "2"
   },
   "inputWidgetPreferences": null,
   "language": "python",
   "notebookMetadata": {
    "pythonIndentUnit": 4
   },
   "notebookName": "bronze_tables_creation_scripts",
   "widgets": {
    "storage_account_name": {
     "currentValue": "thassessmentsa",
     "nuid": "34e392d3-d048-47ea-94d6-743b8c6c4445",
     "typedWidgetInfo": {
      "autoCreated": false,
      "defaultValue": "",
      "label": null,
      "name": "storage_account_name",
      "options": {
       "widgetDisplayType": "Text",
       "validationRegex": null
      },
      "parameterDataType": "String"
     },
     "widgetInfo": {
      "widgetType": "text",
      "defaultValue": "",
      "label": null,
      "name": "storage_account_name",
      "options": {
       "widgetType": "text",
       "autoCreated": null,
       "validationRegex": null
      }
     }
    }
   }
  },
  "language_info": {
   "name": "python"
  }
 },
 "nbformat": 4,
 "nbformat_minor": 0
}
